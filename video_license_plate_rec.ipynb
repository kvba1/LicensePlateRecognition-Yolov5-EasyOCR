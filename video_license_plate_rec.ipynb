{
 "cells": [
  {
   "cell_type": "code",
   "execution_count": 8,
   "metadata": {},
   "outputs": [],
   "source": [
    "import matplotlib.pyplot as plt\n",
    "import numpy as np\n",
    "import torch\n",
    "import cv2\n",
    "from easyocr import Reader\n",
    "import re\n"
   ]
  },
  {
   "cell_type": "code",
   "execution_count": 9,
   "metadata": {},
   "outputs": [
    {
     "name": "stderr",
     "output_type": "stream",
     "text": [
      "Using cache found in C:\\Users\\kba13/.cache\\torch\\hub\\ultralytics_yolov5_master\n",
      "YOLOv5  2024-4-2 Python-3.11.8 torch-2.2.2 CUDA:0 (NVIDIA GeForce RTX 2070, 8192MiB)\n",
      "\n",
      "Fusing layers... \n",
      "Model summary: 157 layers, 7015519 parameters, 0 gradients, 15.8 GFLOPs\n",
      "Adding AutoShape... \n"
     ]
    }
   ],
   "source": [
    "model2 = torch.hub.load('ultralytics/yolov5', 'custom', path='yolov5/runs/train/exp6/weights/best.pt').to('cpu')"
   ]
  },
  {
   "cell_type": "code",
   "execution_count": 10,
   "metadata": {},
   "outputs": [],
   "source": [
    "reader = Reader(['en'])"
   ]
  },
  {
   "cell_type": "code",
   "execution_count": 11,
   "metadata": {},
   "outputs": [],
   "source": [
    "class Car:\n",
    "    def __init__(self, car_coords, plate_coords):\n",
    "        self.car_coords = car_coords\n",
    "        self.plate_coords = plate_coords\n",
    "        self.plate_text = ''\n",
    "\n",
    "    def __repr__(self):\n",
    "        return f\"Car(car_coords={self.car_coords}, plate_coords={self.plate_coords})\""
   ]
  },
  {
   "cell_type": "code",
   "execution_count": 12,
   "metadata": {},
   "outputs": [],
   "source": [
    "def readFrame(result):\n",
    "    labels = np.squeeze(result.xyxy)\n",
    "    cars = []\n",
    "    license_plates = []\n",
    "\n",
    "    for label in labels:\n",
    "        x1, y1, x2, y2, pred, class_id = label\n",
    "        if class_id == 1:\n",
    "            cars.append(label)\n",
    "        else: \n",
    "            license_plates.append(label)\n",
    "    return cars, license_plates\n",
    "    "
   ]
  },
  {
   "cell_type": "code",
   "execution_count": 13,
   "metadata": {},
   "outputs": [],
   "source": [
    "def findLicensePlate(cars, license_plates, frame):\n",
    "    matched_cars = []\n",
    "    \n",
    "    for plate in license_plates:\n",
    "        x1, y1, x2, y2, pred, class_id = plate\n",
    "        for car in cars:\n",
    "            x1car, y1car, x2car, y2car, p, c = car\n",
    "            if x1car < x1 and x2car > x2 and y1car < y1 and y2car > y2:\n",
    "                matched_cars.append(Car((int(x1car), int(y1car), int(x2car), int(y2car)), (int(x1), int(y1), int(x2), int(y2))))\n",
    "                break\n",
    "            \n",
    "    for matched_car in matched_cars:\n",
    "        x1, y1,x2, y2 = matched_car.plate_coords\n",
    "        rgb_label = frame[y1:y2, x1:x2]\n",
    "        gray_label = cv2.cvtColor(rgb_label, cv2.COLOR_BGR2GRAY)\n",
    "        label_result = reader.readtext(gray_label)\n",
    "        license_plate_text = ''\n",
    "        \n",
    "        for bbox, text, prob in label_result:\n",
    "            filtered_text = re.sub('[^a-zA-Z0-9]', '', text).upper()\n",
    "            license_plate_text += filtered_text\n",
    "        \n",
    "        matched_car.plate_text = license_plate_text \n",
    "        \n",
    "    return matched_cars\n"
   ]
  },
  {
   "cell_type": "code",
   "execution_count": 14,
   "metadata": {},
   "outputs": [],
   "source": [
    "cap = cv2.VideoCapture('traffic.mov')\n",
    " \n",
    "while cap.isOpened():\n",
    "    ret, frame = cap.read()\n",
    "    \n",
    "    if not ret:\n",
    "        print(\"Can't receive frame (stream end?). Exiting ...\")\n",
    "        break\n",
    "    \n",
    "    cars = []\n",
    "    license_plates = []\n",
    "    matched_cars = []\n",
    "    \n",
    "    result = model2(frame)\n",
    "    \n",
    "    cars, license_plates = readFrame(result)\n",
    "    matched_cars = findLicensePlate(cars, license_plates, frame)\n",
    "    \n",
    "    for car in matched_cars:\n",
    "        x1_car, y1_car, x2_car, y2_car = car.car_coords\n",
    "        top_left_corner = (x1_car, y2_car)\n",
    "        bottom_right_corner = (x2_car, y1_car)\n",
    "\n",
    "        cv2.rectangle(frame, top_left_corner, bottom_right_corner, (0, 255, 0), 3)\n",
    "        cv2.putText(frame, car.plate_text, (x1_car, y1_car-5), cv2.FONT_HERSHEY_SIMPLEX, 1.5, (0, 0, 255), 3)\n",
    " \n",
    "    cv2.imshow('frame', frame)\n",
    "    \n",
    "    if cv2.waitKey(1) == ord('q'):\n",
    "        break\n",
    "    \n",
    "cap.release()\n",
    "cv2.destroyAllWindows()\n"
   ]
  }
 ],
 "metadata": {
  "kernelspec": {
   "display_name": "torch",
   "language": "python",
   "name": "python3"
  },
  "language_info": {
   "codemirror_mode": {
    "name": "ipython",
    "version": 3
   },
   "file_extension": ".py",
   "mimetype": "text/x-python",
   "name": "python",
   "nbconvert_exporter": "python",
   "pygments_lexer": "ipython3",
   "version": "undefined.undefined.undefined"
  }
 },
 "nbformat": 4,
 "nbformat_minor": 2
}
